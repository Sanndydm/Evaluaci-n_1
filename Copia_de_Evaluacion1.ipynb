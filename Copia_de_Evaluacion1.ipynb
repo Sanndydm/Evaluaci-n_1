{
  "nbformat": 4,
  "nbformat_minor": 0,
  "metadata": {
    "colab": {
      "provenance": [],
      "include_colab_link": true
    },
    "kernelspec": {
      "name": "python3",
      "display_name": "Python 3"
    },
    "language_info": {
      "name": "python"
    }
  },
  "cells": [
    {
      "cell_type": "markdown",
      "metadata": {
        "id": "view-in-github",
        "colab_type": "text"
      },
      "source": [
        "<a href=\"https://colab.research.google.com/github/Sanndydm/Evaluaci-n_1/blob/main/Copia_de_Evaluacion1.ipynb\" target=\"_parent\"><img src=\"https://colab.research.google.com/assets/colab-badge.svg\" alt=\"Open In Colab\"/></a>"
      ]
    },
    {
      "cell_type": "markdown",
      "source": [
        "Hagamos un modelo de regresión lineal simple con el archivo"
      ],
      "metadata": {
        "id": "YauFiOol53WI"
      }
    },
    {
      "cell_type": "code",
      "execution_count": 28,
      "metadata": {
        "id": "jz5xw-yB10xv"
      },
      "outputs": [],
      "source": [
        "# Importar librerías\n",
        "import sys\n",
        "import pandas as pd\n",
        "import numpy as np\n",
        "import matplotlib.pyplot as plt\n",
        "from sklearn.linear_model import LinearRegression, LogisticRegression\n",
        "from sklearn.model_selection import train_test_split\n",
        "from sklearn.metrics import mean_squared_error, r2_score, accuracy_score, confusion_matrix"
      ]
    },
    {
      "cell_type": "code",
      "source": [
        "# Cargar datos\n",
        "import pandas as pd\n",
        "df = pd.read_csv(\"datos_ml.csv\")\n",
        "print(df.head())"
      ],
      "metadata": {
        "colab": {
          "base_uri": "https://localhost:8080/"
        },
        "id": "QdDHcnP13J8-",
        "outputId": "5900c41c-0340-4387-eedc-f5c7ee92b486"
      },
      "execution_count": 29,
      "outputs": [
        {
          "output_type": "stream",
          "name": "stdout",
          "text": [
            "   Edad  Ingresos  Años_Estudio  Compra\n",
            "0    25     32000            11       0\n",
            "1    30     45000            14       1\n",
            "2    22     28000            10       0\n",
            "3    35     52000            16       1\n",
            "4    28     39000            12       0\n"
          ]
        }
      ]
    },
    {
      "cell_type": "code",
      "source": [
        "# Regresión Lineal Simple (Ingresos vs Edad)\n",
        "X_simple = df[[\"Edad\"]]\n",
        "y_simple = df[\"Ingresos\"]\n"
      ],
      "metadata": {
        "id": "eUxlXWCZ3t_I"
      },
      "execution_count": 30,
      "outputs": []
    },
    {
      "cell_type": "markdown",
      "source": [
        "Genera un modelo de regresión lineal de `scikit-learn` con `X_simple`, `y_simple`, usando un **80% de los datos para entrenamiento** y un `random_state=42`\n",
        "\n",
        "Guarda el modelo en la variable `modelo_lineal_simple` y genera una predicción que se almacene en `y_pred_simple`."
      ],
      "metadata": {
        "id": "s6DODK2p4gdB"
      }
    },
    {
      "cell_type": "code",
      "source": [],
      "metadata": {
        "id": "jUkcybkoJVZQ"
      },
      "execution_count": 30,
      "outputs": []
    },
    {
      "cell_type": "code",
      "source": [
        "try:\n",
        "  print(\"Regresión Lineal Simple:\")\n",
        "  print(\"Coeficiente:\", modelo_lineal_simple.coef_[0])\n",
        "  print(\"Intercepto:\", modelo_lineal_simple.intercept_)\n",
        "  print(\"R²:\", r2_score(y_test, y_pred_simple))\n",
        "except Exception as e:\n",
        "  print(f\"Hubo un problema con el Modelo de regresión: {e}\")"
      ],
      "metadata": {
        "colab": {
          "base_uri": "https://localhost:8080/"
        },
        "id": "ZA49o9pW3mq6",
        "outputId": "5599458a-9c2a-4cf6-ae40-3ac3d9c8062f"
      },
      "execution_count": 34,
      "outputs": [
        {
          "output_type": "stream",
          "name": "stdout",
          "text": [
            "Regresión Lineal Simple:\n",
            "Coeficiente: 1819.7689774788255\n",
            "Intercepto: -11909.20216231444\n",
            "R²: 0.9943683024282046\n"
          ]
        }
      ]
    },
    {
      "cell_type": "code",
      "source": [],
      "metadata": {
        "id": "n-C7-v8F4DgQ"
      },
      "execution_count": null,
      "outputs": []
    },
    {
      "cell_type": "code",
      "source": [],
      "metadata": {
        "id": "FYDQFX2BIDIC"
      },
      "execution_count": null,
      "outputs": []
    }
  ]
}